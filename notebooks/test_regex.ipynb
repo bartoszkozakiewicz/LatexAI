{
 "cells": [
  {
   "cell_type": "code",
   "execution_count": 1,
   "metadata": {},
   "outputs": [],
   "source": [
    "import re"
   ]
  },
  {
   "cell_type": "code",
   "execution_count": 6,
   "metadata": {},
   "outputs": [],
   "source": [
    "string = '''\n",
    "\\subsection{a)}\n",
    "Figure \\\\ref{fig:DFG} shows directly-follows graph created in Celonis. Both activities and connections were set to 100 \\% and seven activities can be observed.\n",
    "\\\\begin{figure}[ht!]\n",
    "    \\centering\n",
    "    \\includegraphics[width=\\\\textwidth]{images/Task 1/Directly-Follows Graph.png}\n",
    "    \\caption{Directly-Follows Graph}\n",
    "    \\label{fig:DFG}\n",
    "\\end{figure}\n",
    "\\\\newpage\n",
    "\\subsection{b)}\n",
    "\n",
    "\n",
    "\\subsection{c)}\n",
    "From data collected in previous task, one can find the following conclusion. \n",
    "In figure \\\\ref{fig:Subscription} we see that majority of costumers is registered as a free user, almost 73\\% of all. In \\ref{fig:Component} we can observe that values in component chart are not evenly distributed. 'Navigation' is the most used component, 'other' is the second one. Two last remaining occur in similar frequency. \n",
    "In \\\\ref{fig:Component and subscription} we find confirmation that “Navigation” is the most used option regardless of subscription type. Figure \\ref{fig:Column} provides interesting information about resources and activities handled by them. Mary does much more than any other employee. We can see that six resources have almost the same amount of work. Julie has the least amount of work (according to provided data).\n",
    "In figure \\\\ref{fig:IT-Support} one can see that Eric is responsible almost half of the time, Amy and Julie share rest time almost equally.\n",
    "In chart \\\\ref{fig:Register} we see that Mary is handles registration most often. Chart \\ref{fig:Send Answer} shows that resource are similar responsibility in the matter of sending answers. Figure \\ref{fig:Follow} shows that “Follow up” is Eric's domain. Jane is focused on three tasks, but also sometimes does “frontline resolution”. Whereas Liam spends his time on “investigate” and “register”. Histogram Chart component \\ref{fig:Histogram} shows that the first three weeks are the most intense period of work. Then we see a decline, the next seven weeks are a rather peaceful period of work.\n",
    "'''"
   ]
  },
  {
   "cell_type": "code",
   "execution_count": 28,
   "metadata": {},
   "outputs": [],
   "source": [
    "def delete_latex_from_string(string):\n",
    "    string = '\\n'.join([re.sub('^\\s+', '', s) for s in string.split('\\n')])\n",
    "    string = '\\n'.join([s for s in string.split('\\n') if not s.startswith('\\\\')])\n",
    "    return string"
   ]
  },
  {
   "cell_type": "code",
   "execution_count": 29,
   "metadata": {},
   "outputs": [
    {
     "name": "stdout",
     "output_type": "stream",
     "text": [
      "\n",
      "Figure \\ref{fig:DFG} shows directly-follows graph created in Celonis. Both activities and connections were set to 100 \\% and seven activities can be observed.\n",
      "\n",
      "\n",
      "From data collected in previous task, one can find the following conclusion. \n",
      "ef{fig:Component} we can observe that values in component chart are not evenly distributed. 'Navigation' is the most used component, 'other' is the second one. Two last remaining occur in similar frequency. \n",
      "ef{fig:Column} provides interesting information about resources and activities handled by them. Mary does much more than any other employee. We can see that six resources have almost the same amount of work. Julie has the least amount of work (according to provided data).\n",
      "In figure \\ref{fig:IT-Support} one can see that Eric is responsible almost half of the time, Amy and Julie share rest time almost equally.\n",
      "ef{fig:Histogram} shows that the first three weeks are the most intense period of work. Then we see a decline, the next seven weeks are a rather peaceful period of work.investigate” and “register”. Histogram Chart component \n",
      "\n"
     ]
    }
   ],
   "source": [
    "print(delete_latex_from_string(string))"
   ]
  },
  {
   "cell_type": "code",
   "execution_count": 23,
   "metadata": {},
   "outputs": [
    {
     "name": "stdout",
     "output_type": "stream",
     "text": [
      "\n",
      "\\subsection{a)}\n",
      "Figure\\ref{fig:DFG}showsdirectly-followsgraphcreatedinCelonis.Bothactivitiesandconnectionsweresetto100\\%andsevenactivitiescanbeobserved.\n",
      "\\begin{figure}[ht!]\n",
      "\\centering\n",
      "\\includegraphics[width=\\textwidth]{images/Task1/Directly-FollowsGraph.png}\n",
      "\\caption{Directly-FollowsGraph}\n",
      "\\label{fig:DFG}\n",
      "\\end{figure}\n",
      "\\newpage\n",
      "\\subsection{b)}\n",
      "\n",
      "\n",
      "\\subsection{c)}\n",
      "Fromdatacollectedinprevioustask,onecanfindthefollowingconclusion.\n",
      "ef{fig:Component}wecanobservethatvaluesincomponentchartarenotevenlydistributed.'Navigation'isthemostusedcomponent,'other'isthesecondone.Twolastremainingoccurinsimilarfrequency.\n",
      "ef{fig:Column}providesinterestinginformationaboutresourcesandactivitieshandledbythem.Marydoesmuchmorethananyotheremployee.Wecanseethatsixresourceshavealmostthesameamountofwork.Juliehastheleastamountofwork(accordingtoprovideddata).\n",
      "Infigure\\ref{fig:IT-Support}onecanseethatEricisresponsiblealmosthalfofthetime,AmyandJulieshareresttimealmostequally.\n",
      "ef{fig:Histogram}showsthatthefirstthreeweeksarethemostintenseperiodofwork.Thenweseeadecline,thenextsevenweeksarearatherpeacefulperiodofwork.on“investigate”and“register”.HistogramChartcomponent\n",
      "\n"
     ]
    }
   ],
   "source": [
    "print(re.sub(' +', '', string))\n"
   ]
  },
  {
   "cell_type": "code",
   "execution_count": 27,
   "metadata": {},
   "outputs": [
    {
     "name": "stdout",
     "output_type": "stream",
     "text": [
      "\n",
      "\\subsection{a)}\n",
      "Figure \\ref{fig:DFG} shows directly-follows graph created in Celonis. Both activities and connections were set to 100 \\% and seven activities can be observed.\n",
      "\\begin{figure}[ht!]\n",
      "\\centering\n",
      "\\includegraphics[width=\\textwidth]{images/Task 1/Directly-Follows Graph.png}\n",
      "\\caption{Directly-Follows Graph}\n",
      "\\label{fig:DFG}\n",
      "\\end{figure}\n",
      "\\newpage\n",
      "\\subsection{b)}\n",
      "\n",
      "\n",
      "\\subsection{c)}\n",
      "From data collected in previous task, one can find the following conclusion. \n",
      "ef{fig:Component} we can observe that values in component chart are not evenly distributed. 'Navigation' is the most used component, 'other' is the second one. Two last remaining occur in similar frequency. \n",
      "ef{fig:Column} provides interesting information about resources and activities handled by them. Mary does much more than any other employee. We can see that six resources have almost the same amount of work. Julie has the least amount of work (according to provided data).\n",
      "In figure \\ref{fig:IT-Support} one can see that Eric is responsible almost half of the time, Amy and Julie share rest time almost equally.\n",
      "ef{fig:Histogram} shows that the first three weeks are the most intense period of work. Then we see a decline, the next seven weeks are a rather peaceful period of work.investigate” and “register”. Histogram Chart component \n",
      "\n"
     ]
    }
   ],
   "source": []
  },
  {
   "cell_type": "code",
   "execution_count": null,
   "metadata": {},
   "outputs": [],
   "source": []
  }
 ],
 "metadata": {
  "kernelspec": {
   "display_name": "vertex_hackathon",
   "language": "python",
   "name": "python3"
  },
  "language_info": {
   "codemirror_mode": {
    "name": "ipython",
    "version": 3
   },
   "file_extension": ".py",
   "mimetype": "text/x-python",
   "name": "python",
   "nbconvert_exporter": "python",
   "pygments_lexer": "ipython3",
   "version": "3.9.6"
  },
  "orig_nbformat": 4
 },
 "nbformat": 4,
 "nbformat_minor": 2
}
